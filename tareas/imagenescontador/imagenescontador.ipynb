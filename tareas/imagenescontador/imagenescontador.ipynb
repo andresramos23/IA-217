{
 "cells": [
  {
   "cell_type": "code",
   "execution_count": 185,
   "metadata": {
    "collapsed": true
   },
   "outputs": [],
   "source": [
    "# python notebook for Make Your Own Neural Network\n",
    "# code for a 3-layer neural network, and code for learning the MNIST dataset\n",
    "# (c) Tariq Rashid, 2016\n",
    "# license is GPLv2"
   ]
  },
  {
   "cell_type": "code",
   "execution_count": 186,
   "metadata": {
    "collapsed": true
   },
   "outputs": [],
   "source": [
    "import numpy\n",
    "# scipy.special for the sigmoid function expit()\n",
    "import scipy.special\n",
    "# library for plotting arrays\n",
    "import matplotlib.pyplot\n",
    "# ensure the plots are inside this notebook, not an external window\n",
    "%matplotlib inline"
   ]
  },
  {
   "cell_type": "code",
   "execution_count": 187,
   "metadata": {
    "collapsed": true
   },
   "outputs": [],
   "source": [
    "# neural network class definition\n",
    "class neuralNetwork:\n",
    "\n",
    "    \n",
    "    # initialise the neural network\n",
    "    def __init__(self, inputnodes, hiddennodes, outputnodes, learningrate):\n",
    "        # set number of nodes in each input, hidden, output layer\n",
    "        self.inodes = inputnodes\n",
    "        self.hnodes = hiddennodes\n",
    "        self.onodes = outputnodes\n",
    "        \n",
    "        # link weight matrices, wih and who\n",
    "        # weights inside the arrays are w_i_j, where link is from node i to node j in the next layer\n",
    "        # w11 w21\n",
    "        # w12 w22 etc \n",
    "        self.wih = numpy.random.normal(0.0, pow(self.inodes, -0.5), (self.hnodes, self.inodes))\n",
    "        self.who = numpy.random.normal(0.0, pow(self.hnodes, -0.5), (self.onodes, self.hnodes))\n",
    "\n",
    "        # learning rate\n",
    "        self.lr = learningrate\n",
    "        \n",
    "        # activation function is the sigmoid function\n",
    "        self.activation_function = lambda x: scipy.special.expit(x)\n",
    "        pass\n",
    "\n",
    "    \n",
    "    # train the neural network\n",
    "    def train(self, inputs_list, targets_list):\n",
    "        # convert inputs list to 2d array\n",
    "        inputs = numpy.array(inputs_list, ndmin=2).T\n",
    "        targets = numpy.array(targets_list, ndmin=2).T\n",
    "        hidden_inputs = numpy.dot(self.wih, inputs)\n",
    "        hidden_outputs = self.activation_function(hidden_inputs)\n",
    "        final_inputs = numpy.dot(self.who, hidden_outputs)\n",
    "        final_outputs = self.activation_function(final_inputs)\n",
    "        output_errors = targets - final_outputs\n",
    "        hidden_errors = numpy.dot(self.who.T, output_errors) \n",
    "        self.who += self.lr * numpy.dot((output_errors * final_outputs * (1.0 - final_outputs)), numpy.transpose(hidden_outputs))\n",
    "        self.wih += self.lr * numpy.dot((hidden_errors * hidden_outputs * (1.0 - hidden_outputs)), numpy.transpose(inputs))\n",
    "        print(\"Error \", output_errors)\n",
    "        \n",
    "        pass\n",
    "\n",
    "    \n",
    "    # query the neural network\n",
    "    def query(self, inputs_list):\n",
    "        inputs = numpy.array(inputs_list, ndmin=2).T\n",
    "        \n",
    "        hidden_inputs = numpy.dot(self.wih, inputs)\n",
    "        hidden_outputs = self.activation_function(hidden_inputs)\n",
    "        final_inputs = numpy.dot(self.who, hidden_outputs)\n",
    "        final_outputs = self.activation_function(final_inputs)\n",
    "        return final_outputs"
   ]
  },
  {
   "cell_type": "code",
   "execution_count": 188,
   "metadata": {},
   "outputs": [],
   "source": [
    "# number of input, hidden and output nodes\n",
    "input_nodes = 1568\n",
    "hidden_nodes = 1568\n",
    "output_nodes = 1568\n",
    "\n",
    "learning_rate = 0.1\n",
    "n = neuralNetwork(input_nodes,hidden_nodes,output_nodes, learning_rate)"
   ]
  },
  {
   "cell_type": "code",
   "execution_count": 189,
   "metadata": {},
   "outputs": [],
   "source": [
    "# load the mnist training data CSV file into a list\n",
    "training_data_file = open(\"mnist_dataset.md/mnist_test_10.csv\", 'r')\n",
    "training_data_list = training_data_file.readlines()\n",
    "training_data_file.close()\n",
    "\n",
    "#Numeros arbitrarios (no existe el 6, 8, 3)\n",
    "inputDecena = 2\n",
    "inputUnidad = 1\n",
    "\n",
    "if (inputUnidad + 1 >= 10):\n",
    "    targetUnidad = 0\n",
    "    targetDecena = inputDecena + 1\n",
    "    if (targetDecena >= 10):\n",
    "        targetDecena = 0\n",
    "\n",
    "else:\n",
    "    targetUnidad = inputUnidad + 1\n",
    "    targetDecena = inputDecena\n",
    "\n",
    "#0--> inputDecena\n",
    "#1--> inputUnidad\n",
    "#2--> targetDecena\n",
    "#3--> targetUnidad\n",
    "banderas = [0,0,0,0]\n",
    "contador = 0    \n",
    "\n",
    "lInputDecena = []\n",
    "lInputUnidad = []\n",
    "lTargetDecena = []\n",
    "lTargetUnidad = []\n",
    "\n",
    "largo = len(training_data_list)\n",
    "\n",
    "while ((banderas[0]!= 1 or  banderas[1] != 1 or  banderas[2] != 1 or  banderas[3] != 1) and contador != largo ):\n",
    "    if (int(training_data_list[contador][0]) == inputDecena):\n",
    "        lInputDecena = training_data_list[contador]\n",
    "        banderas[0] = 1\n",
    "        \n",
    "    if (int(training_data_list[contador][0]) == inputUnidad):\n",
    "        lInputUnidad = training_data_list[contador]\n",
    "        banderas[1] = 1 \n",
    "        \n",
    "    if (int(training_data_list[contador][0]) == targetDecena):\n",
    "        lTargetDecena = training_data_list[contador]\n",
    "        banderas[2] = 1\n",
    "        \n",
    "    if (int(training_data_list[contador][0]) == targetUnidad):\n",
    "        lTargetUnidad = training_data_list[contador]\n",
    "        banderas[3] = 1\n",
    "    contador += 1\n",
    "\n"
   ]
  },
  {
   "cell_type": "code",
   "execution_count": 190,
   "metadata": {},
   "outputs": [
    {
     "name": "stdout",
     "output_type": "stream",
     "text": [
      "Error  [[-0.40067526]\n",
      " [-0.37743788]\n",
      " [-0.5100196 ]\n",
      " ..., \n",
      " [-0.46911911]\n",
      " [-0.65854348]\n",
      " [-0.62895893]]\n"
     ]
    }
   ],
   "source": [
    "# train the neural network\n",
    "\n",
    "# epochs is the number of times the training data set is used for training\n",
    "epochs = 1\n",
    "\n",
    "record = lInputDecena[2:] + \",\" + lInputUnidad[2:]\n",
    "preTargets = lTargetDecena[2:] + \",\" + lTargetUnidad[2:]\n",
    "inputs = []\n",
    "targets = []\n",
    "for e in range(epochs):\n",
    "\n",
    "    all_values = record.split(',')\n",
    "    # scale and shift the inputs\n",
    "    inputs = ( numpy.asfarray(all_values) / 255.0 * 0.99) + 0.01\n",
    "    # inputs = (numpy.asfarray(all_values[0:3]) / 255.0 * 0.99) + 0.01\n",
    "    target_values = preTargets.split(',')\n",
    "    targets = (numpy.asfarray(target_values) / 255.0 * 0.99) + 0.01\n",
    "    n.train(inputs, targets)\n",
    "    pass"
   ]
  },
  {
   "cell_type": "code",
   "execution_count": 191,
   "metadata": {
    "collapsed": true
   },
   "outputs": [],
   "source": [
    "# load the mnist test data CSV file into a list\n",
    "test_data_file = open(\"mnist_dataset.md/contador.csv\", 'r')\n",
    "test_data_list = test_data_file.readlines()\n",
    "test_data_file.close()"
   ]
  },
  {
   "cell_type": "code",
   "execution_count": 192,
   "metadata": {},
   "outputs": [
    {
     "name": "stdout",
     "output_type": "stream",
     "text": [
      "Inputs:  [ 0.01  0.01  0.01 ...,  0.01  0.01  0.01]\n",
      "Outputs:  [[ 0.01689232]\n",
      " [ 0.02736999]\n",
      " [ 0.00689506]\n",
      " ..., \n",
      " [ 0.01332419]\n",
      " [ 0.00699234]\n",
      " [ 0.00877179]]\n"
     ]
    },
    {
     "data": {
      "text/plain": [
       "<matplotlib.image.AxesImage at 0x11d372828>"
      ]
     },
     "execution_count": 192,
     "metadata": {},
     "output_type": "execute_result"
    },
    {
     "data": {
      "image/png": "[encoded data removed]",
      "text/plain": [
       "<matplotlib.figure.Figure at 0x11cfe5cf8>"
      ]
     },
     "metadata": {},
     "output_type": "display_data"
    }
   ],
   "source": [
    "# test the neural network\n",
    "\n",
    "# scorecard for how well the network performs, initially empty\n",
    "scorecard = []\n",
    "\n",
    "# go through all the records in the test data set\n",
    "# split the record by the ',' commas\n",
    "all_values = record.split(',')\n",
    "# correct answer is first value\n",
    "correct_label = int(lInputDecena[0])\n",
    "# scale and shift the inputs\n",
    "inputs = (numpy.asfarray(all_values) / 255.0 * 0.99) + 0.01\n",
    "# query the network\n",
    "outputs = n.query(inputs)\n",
    "print (\"Inputs: \", inputs)\n",
    "print(\"Outputs: \", outputs)\n",
    "# the index of the highest value corresponds to the label\n",
    "label = numpy.argmax(outputs)\n",
    "# append correct or incorrect to list\n",
    "if (label == correct_label):\n",
    "    # network's answer matches correct answer, add 1 to scorecard\n",
    "    scorecard.append(1)\n",
    "else:\n",
    "    # network's answer doesn't match correct answer, add 0 to scorecard\n",
    "    scorecard.append(0)\n",
    "    pass\n",
    "\n",
    "image_array = numpy.asfarray(outputs[:len(outputs)//2]).reshape((28,28))\n",
    "matplotlib.pyplot.imshow(image_array, cmap='Greys', interpolation='None')"
   ]
  },
  {
   "cell_type": "code",
   "execution_count": 193,
   "metadata": {},
   "outputs": [
    {
     "data": {
      "text/plain": [
       "<matplotlib.image.AxesImage at 0x11d3e8320>"
      ]
     },
     "execution_count": 193,
     "metadata": {},
     "output_type": "execute_result"
    },
    {
     "data": {
      "image/png": "[encoded data removed]",
      "text/plain": [
       "<matplotlib.figure.Figure at 0x11d26ae10>"
      ]
     },
     "metadata": {},
     "output_type": "display_data"
    }
   ],
   "source": [
    "image_array = numpy.asfarray(outputs[len(outputs)//2:]).reshape((28,28))\n",
    "matplotlib.pyplot.imshow(image_array, cmap='Greys', interpolation='None')"
   ]
  },
  {
   "cell_type": "code",
   "execution_count": 194,
   "metadata": {},
   "outputs": [
    {
     "name": "stdout",
     "output_type": "stream",
     "text": [
      "performance =  0.0\n"
     ]
    }
   ],
   "source": [
    "# calculate the performance score, the fraction of correct answers\n",
    "scorecard_array = numpy.asarray(scorecard)\n",
    "print (\"performance = \", scorecard_array.sum() / scorecard_array.size)"
   ]
  },
  {
   "cell_type": "code",
   "execution_count": null,
   "metadata": {
    "collapsed": true
   },
   "outputs": [],
   "source": []
  }
 ],
 "metadata": {
  "kernelspec": {
   "display_name": "Python 3",
   "language": "python",
   "name": "python3"
  },
  "language_info": {
   "codemirror_mode": {
    "name": "ipython",
    "version": 3
   },
   "file_extension": ".py",
   "mimetype": "text/x-python",
   "name": "python",
   "nbconvert_exporter": "python",
   "pygments_lexer": "ipython3",
   "version": "3.6.1"
  }
 },
 "nbformat": 4,
 "nbformat_minor": 1
}
